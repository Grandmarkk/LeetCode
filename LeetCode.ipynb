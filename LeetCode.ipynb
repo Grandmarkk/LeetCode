{
 "cells": [
  {
   "cell_type": "code",
   "execution_count": 1,
   "metadata": {},
   "outputs": [],
   "source": [
    "import numpy as np\n",
    "import math"
   ]
  },
  {
   "cell_type": "code",
   "execution_count": 20,
   "metadata": {},
   "outputs": [],
   "source": [
    "class Solution:\n",
    "    # 1\n",
    "    def twoSum(self, nums, target):\n",
    "        '''\n",
    "        Function Description:\n",
    "            Find the two numbers that sum to the target number\n",
    "        \n",
    "        Input:\n",
    "            nums: the list of numbers to find the answers in\n",
    "            target: the target sum\n",
    "        \n",
    "        Output:\n",
    "            a list of two indexes of the two numbers that would sum to target\n",
    "        '''\n",
    "        numDict = {}\n",
    "        i = 0\n",
    "        while i < len(nums):\n",
    "            curRemainder = target - nums[i]\n",
    "            if curRemainder in numDict:\n",
    "                return [i, numDict[curRemainder]]\n",
    "            numDict[nums[i]] = i\n",
    "            i += 1\n",
    "        return []\n",
    "\n",
    "    # 9\n",
    "    def isPalindrome(self, x):\n",
    "        '''\n",
    "        Function Description:\n",
    "            determine if the number is a palindrome\n",
    "\n",
    "        Input:\n",
    "            x: the number that will be determined if is palindrome\n",
    "        \n",
    "        Output:\n",
    "            boolean, true if is palindrome, false if not palindrome\n",
    "        '''\n",
    "        # negative number cannot be palindrome for the -\n",
    "        if x < 0:\n",
    "            return False\n",
    "        x = str(x)\n",
    "        return x == x[::-1]\n",
    "    \n",
    "    # 13\n",
    "    def romanToInt(self, s):\n",
    "        '''\n",
    "        Function Description:\n",
    "            convert a string representing a roman number to int\n",
    "\n",
    "        Input:\n",
    "            s: a string representing a roman number\n",
    "\n",
    "        Output:\n",
    "            integer form of the input roman number\n",
    "        '''\n",
    "        romanNumDict = {\n",
    "            'I': 1,\n",
    "            'V': 5,\n",
    "            'X': 10,\n",
    "            'L': 50,\n",
    "            'C': 100,\n",
    "            'D': 500,\n",
    "            'M': 1000\n",
    "        }\n",
    "        ans = 0\n",
    "        length = len(s)\n",
    "        i = 0\n",
    "        while i < length:\n",
    "            # special cases\n",
    "            if i != length - 1 and (romanNumDict[s[i]] < romanNumDict[s[i+1]]):\n",
    "                ans += romanNumDict[s[i+1]] - romanNumDict[s[i]]\n",
    "                i += 1\n",
    "            else:\n",
    "                ans += romanNumDict[s[i]]\n",
    "            i += 1\n",
    "        return ans"
   ]
  },
  {
   "cell_type": "code",
   "execution_count": 21,
   "metadata": {},
   "outputs": [
    {
     "name": "stdout",
     "output_type": "stream",
     "text": [
      "1994\n"
     ]
    }
   ],
   "source": [
    "solution = Solution()\n",
    "print(solution.romanToInt(\"MCMXCIV\"))"
   ]
  },
  {
   "cell_type": "code",
   "execution_count": null,
   "metadata": {},
   "outputs": [],
   "source": []
  }
 ],
 "metadata": {
  "kernelspec": {
   "display_name": "Python 3",
   "language": "python",
   "name": "python3"
  },
  "language_info": {
   "codemirror_mode": {
    "name": "ipython",
    "version": 3
   },
   "file_extension": ".py",
   "mimetype": "text/x-python",
   "name": "python",
   "nbconvert_exporter": "python",
   "pygments_lexer": "ipython3",
   "version": "3.11.1"
  },
  "orig_nbformat": 4
 },
 "nbformat": 4,
 "nbformat_minor": 2
}
