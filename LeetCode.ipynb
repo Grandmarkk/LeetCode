{
 "cells": [
  {
   "cell_type": "code",
   "execution_count": 1,
   "metadata": {},
   "outputs": [],
   "source": [
    "import numpy as np\n",
    "import math\n",
    "from typing import List, Optional\n",
    "import pandas as pd"
   ]
  },
  {
   "cell_type": "code",
   "execution_count": 11,
   "metadata": {},
   "outputs": [
    {
     "name": "stdout",
     "output_type": "stream",
     "text": [
      "['1->2->5', '1->3']\n"
     ]
    }
   ],
   "source": [
    "class TreeNode:\n",
    "    def __init__(self, val=0, left=None, right=None):\n",
    "        self.val = val\n",
    "        self.left = left\n",
    "        self.right = right\n",
    "\n",
    "class ListNode:\n",
    "    def __init__(self, val=0, next=None):\n",
    "        self.val = val\n",
    "        self.next = next\n",
    "        \n",
    "\n",
    "class Solution:\n",
    "\n",
    "    def binaryTreePaths(self, root: Optional[TreeNode]) -> List[str]:\n",
    "        def constructPath(path: List[int]) -> str:\n",
    "            return \"->\".join([str(p) for p in path])\n",
    "\n",
    "        def getPaths(root: Optional[TreeNode], curPath: List[int]):\n",
    "            if not root.left and not root.right:\n",
    "                paths.append(curPath + [root.val])\n",
    "            if root.left:\n",
    "                getPaths(root.left, curPath + [root.val])\n",
    "            if root.right:\n",
    "                getPaths(root.right, curPath + [root.val])\n",
    "\n",
    "        paths = []\n",
    "        getPaths(root, [])\n",
    "        return [constructPath(path) for path in paths]\n",
    "        \n",
    "\n",
    "\n",
    "\n",
    "\n",
    "# test only\n",
    "node1 = TreeNode(1)\n",
    "node2 = TreeNode(2)\n",
    "node3 = TreeNode(3)\n",
    "node4=  TreeNode(5)\n",
    "\n",
    "\n",
    "node1.left = node2\n",
    "node1.right = node3\n",
    "node2.right = node4\n",
    "\n",
    "\n",
    "ln1 = ListNode(1)\n",
    "ln2 = ListNode(0)\n",
    "ln3 = ListNode(1)\n",
    "\n",
    "ln1.next = ln2\n",
    "ln2.next = ln3\n",
    "\n",
    "\n",
    "solution = Solution()\n",
    "print(solution.binaryTreePaths(node1))"
   ]
  },
  {
   "cell_type": "code",
   "execution_count": null,
   "metadata": {},
   "outputs": [
    {
     "data": {
      "text/plain": [
       "[1, 2, 3, 2]"
      ]
     },
     "execution_count": 2,
     "metadata": {},
     "output_type": "execute_result"
    }
   ],
   "source": []
  }
 ],
 "metadata": {
  "kernelspec": {
   "display_name": "Python 3",
   "language": "python",
   "name": "python3"
  },
  "language_info": {
   "codemirror_mode": {
    "name": "ipython",
    "version": 3
   },
   "file_extension": ".py",
   "mimetype": "text/x-python",
   "name": "python",
   "nbconvert_exporter": "python",
   "pygments_lexer": "ipython3",
   "version": "3.11.1"
  },
  "orig_nbformat": 4
 },
 "nbformat": 4,
 "nbformat_minor": 2
}
