{
 "cells": [
  {
   "cell_type": "code",
   "execution_count": 1,
   "metadata": {},
   "outputs": [],
   "source": [
    "import numpy as np\n",
    "import math"
   ]
  },
  {
   "cell_type": "code",
   "execution_count": 5,
   "metadata": {},
   "outputs": [],
   "source": [
    "class Solution:\n",
    "    # 1\n",
    "    def twoSum(self, nums, target):\n",
    "        '''\n",
    "        Function Description:\n",
    "            Find the two numbers that sum to the target number\n",
    "        \n",
    "        Input:\n",
    "            nums: the list of numbers to find the answers in\n",
    "            target: the target sum\n",
    "        \n",
    "        Output:\n",
    "            a list of two indexes of the two numbers that would sum to target\n",
    "        '''\n",
    "        numDict = {}\n",
    "        i = 0\n",
    "        while i < len(nums):\n",
    "            curRemainder = target - nums[i]\n",
    "            if curRemainder in numDict:\n",
    "                return [i, numDict[curRemainder]]\n",
    "            numDict[nums[i]] = i\n",
    "            i += 1\n",
    "        return []\n",
    "\n",
    "    # 9\n",
    "    def isPalindrome(self, x):\n",
    "        '''\n",
    "        Function Description:\n",
    "            determine if the number is a palindrome\n",
    "\n",
    "        Input:\n",
    "            x : the number that will be determined if is palindrome\n",
    "        \n",
    "        Output:\n",
    "            boolean, true if is palindrome, false if not palindrome\n",
    "        '''\n",
    "        # negative number cannot be palindrome for the -\n",
    "        if x < 0:\n",
    "            return False\n",
    "        x = str(x)\n",
    "        return x == x[::-1]"
   ]
  },
  {
   "cell_type": "code",
   "execution_count": 7,
   "metadata": {},
   "outputs": [
    {
     "name": "stdout",
     "output_type": "stream",
     "text": [
      "True\n"
     ]
    }
   ],
   "source": [
    "solution = Solution()\n",
    "print(solution.isPalindrome(101))"
   ]
  },
  {
   "cell_type": "code",
   "execution_count": null,
   "metadata": {},
   "outputs": [],
   "source": []
  }
 ],
 "metadata": {
  "kernelspec": {
   "display_name": "Python 3",
   "language": "python",
   "name": "python3"
  },
  "language_info": {
   "codemirror_mode": {
    "name": "ipython",
    "version": 3
   },
   "file_extension": ".py",
   "mimetype": "text/x-python",
   "name": "python",
   "nbconvert_exporter": "python",
   "pygments_lexer": "ipython3",
   "version": "3.11.1"
  },
  "orig_nbformat": 4
 },
 "nbformat": 4,
 "nbformat_minor": 2
}
