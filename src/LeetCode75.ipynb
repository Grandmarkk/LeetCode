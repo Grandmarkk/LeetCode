{
 "cells": [
  {
   "cell_type": "code",
   "execution_count": 1,
   "metadata": {},
   "outputs": [],
   "source": [
    "import numpy as np\n",
    "from typing import List, Optional"
   ]
  },
  {
   "cell_type": "code",
   "execution_count": null,
   "metadata": {},
   "outputs": [],
   "source": [
    "class TrieNode:\n",
    "    def __init__(self, val='') -> None:\n",
    "        self.val = val\n",
    "        self.children = {}\n",
    "        self.isLeaf = False\n",
    "\n",
    "class Trie:\n",
    "    def __init__(self):\n",
    "        self.root = TrieNode()\n",
    "\n",
    "    def insert(self, word):\n",
    "        cur = self.root\n",
    "        for char in word:\n",
    "            if char not in cur.children:\n",
    "                cur.children[char] = TrieNode(char)\n",
    "            cur = cur.children[char]\n",
    "        cur.isLeaf = True\n",
    "\n",
    "    def search(self, word):\n",
    "        cur = self.root\n",
    "        for char in word:\n",
    "            if char not in cur.children:\n",
    "                return False\n",
    "            cur = cur.children[char]\n",
    "        return cur.isLeaf\n"
   ]
  },
  {
   "cell_type": "code",
   "execution_count": 21,
   "metadata": {},
   "outputs": [
    {
     "name": "stdout",
     "output_type": "stream",
     "text": [
      "[True, True, True, False, True]\n"
     ]
    }
   ],
   "source": [
    "\n",
    "\n",
    "class Solution:\n",
    "    def mergeAlternately(self, word1: str, word2: str) -> str:\n",
    "        len1 = len(word1)\n",
    "        len2 = len(word2)\n",
    "        res = []\n",
    "        idx1 = 0\n",
    "        idx2 = 0\n",
    "        while idx1 < len1 and idx2 < len2:\n",
    "            if idx2 < idx1:\n",
    "                res.append(word2[idx2])\n",
    "                idx2 += 1\n",
    "            else:\n",
    "                res.append(word1[idx1])\n",
    "                idx1 += 1\n",
    "        while idx1 < len1:\n",
    "            res.append(word1[idx1])\n",
    "            idx1 += 1\n",
    "        while idx2 < len2:\n",
    "            res.append(word2[idx2])\n",
    "            idx2 += 1\n",
    "        return ''.join(res)\n",
    "\n",
    "    def gcdOfStrings(self, str1: str, str2: str) -> str:\n",
    "        len1 = len(str1)\n",
    "        len2 = len(str2)\n",
    "        if len1 < len2:\n",
    "            i = len1\n",
    "            while i > 0:\n",
    "                if str1[0:i] * (len2 // i) == str2 and str1[0:i] * (len1 // i) == str1:\n",
    "                    return str1[0:i]\n",
    "                i -= 1\n",
    "        else:\n",
    "            i = len2\n",
    "            while i > 0:\n",
    "                if str2[0:i] * (len1 // i) == str1 and str2[0:i] * (len2 // i) == str2:\n",
    "                    return str2[0:i]\n",
    "                i -= 1\n",
    "        return \"\"\n",
    "    \n",
    "    def kidsWithCandies(self, candies: List[int], extraCandies: int) -> List[bool]:\n",
    "        maxCandies = candies[0]\n",
    "        for i in candies:\n",
    "            if i > maxCandies:\n",
    "                maxCandies = i\n",
    "        res = []\n",
    "        for i in candies:\n",
    "            if i + extraCandies >= maxCandies:\n",
    "                res.append(True)\n",
    "            else:\n",
    "                res.append(False)\n",
    "        return res\n",
    "\n",
    "# Test Only\n",
    "solution = Solution()\n",
    "print(solution.kidsWithCandies([2,3,5,1,3], 3))"
   ]
  }
 ],
 "metadata": {
  "kernelspec": {
   "display_name": "Python 3",
   "language": "python",
   "name": "python3"
  },
  "language_info": {
   "codemirror_mode": {
    "name": "ipython",
    "version": 3
   },
   "file_extension": ".py",
   "mimetype": "text/x-python",
   "name": "python",
   "nbconvert_exporter": "python",
   "pygments_lexer": "ipython3",
   "version": "3.12.2"
  }
 },
 "nbformat": 4,
 "nbformat_minor": 2
}
