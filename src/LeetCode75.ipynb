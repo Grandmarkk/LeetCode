{
 "cells": [
  {
   "cell_type": "code",
   "execution_count": 1,
   "metadata": {},
   "outputs": [],
   "source": [
    "import numpy as np\n",
    "from typing import List, Optional"
   ]
  },
  {
   "cell_type": "code",
   "execution_count": 4,
   "metadata": {},
   "outputs": [
    {
     "name": "stdout",
     "output_type": "stream",
     "text": [
      "azsxdc\n"
     ]
    }
   ],
   "source": [
    "class Solution:\n",
    "    def mergeAlternately(self, word1: str, word2: str) -> str:\n",
    "        len1 = len(word1)\n",
    "        len2 = len(word2)\n",
    "        res = []\n",
    "        idx1 = 0\n",
    "        idx2 = 0\n",
    "        while idx1 < len1 and idx2 < len2:\n",
    "            if idx2 < idx1:\n",
    "                res.append(word2[idx2])\n",
    "                idx2 += 1\n",
    "            else:\n",
    "                res.append(word1[idx1])\n",
    "                idx1 += 1\n",
    "        while idx1 < len1:\n",
    "            res.append(word1[idx1])\n",
    "            idx1 += 1\n",
    "        while idx2 < len2:\n",
    "            res.append(word2[idx2])\n",
    "            idx2 += 1\n",
    "        return ''.join(res)\n",
    "\n",
    "    \n",
    "\n",
    "# Test Only\n",
    "solution = Solution()\n",
    "print(solution.mergeAlternately(\"asd\", \"zxc\"))"
   ]
  }
 ],
 "metadata": {
  "kernelspec": {
   "display_name": "Python 3",
   "language": "python",
   "name": "python3"
  },
  "language_info": {
   "codemirror_mode": {
    "name": "ipython",
    "version": 3
   },
   "file_extension": ".py",
   "mimetype": "text/x-python",
   "name": "python",
   "nbconvert_exporter": "python",
   "pygments_lexer": "ipython3",
   "version": "3.12.2"
  }
 },
 "nbformat": 4,
 "nbformat_minor": 2
}
