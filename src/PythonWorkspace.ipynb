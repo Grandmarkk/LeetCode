{
 "cells": [
  {
   "cell_type": "code",
   "execution_count": 7,
   "metadata": {},
   "outputs": [],
   "source": [
    "import numpy as np\n",
    "import math\n",
    "from typing import List, Optional\n",
    "import pandas as pd"
   ]
  },
  {
   "cell_type": "code",
   "execution_count": null,
   "metadata": {},
   "outputs": [
    {
     "name": "stdout",
     "output_type": "stream",
     "text": [
      "157\n"
     ]
    }
   ],
   "source": [
    "class TreeNode:\n",
    "    def __init__(self, val=0, left=None, right=None):\n",
    "        self.val = val\n",
    "        self.left = left\n",
    "        self.right = right\n",
    "\n",
    "class ListNode:\n",
    "    def __init__(self, val=0, next=None):\n",
    "        self.val = val\n",
    "        self.next = next\n",
    "        \n",
    "\n",
    "class Solution:\n",
    "\n",
    "    # 2873\n",
    "    def maximumTripletValue(self, nums: List[int]) -> int:\n",
    "        length = len(nums)\n",
    "        maxVal = 0\n",
    "        for i in range(length):\n",
    "            for j in range(i+1, length):\n",
    "                for k in range(j+1, length):\n",
    "                    maxVal = max(maxVal, (nums[i] - nums[j]) * nums[k])\n",
    "        return maxVal\n",
    "\n",
    "\n",
    "\n",
    "# test only\n",
    "node1 = TreeNode(1)\n",
    "node2 = TreeNode(2)\n",
    "node3 = TreeNode(3)\n",
    "node4=  TreeNode(5)\n",
    "\n",
    "\n",
    "node1.left = node2\n",
    "node1.right = node3\n",
    "node2.right = node4\n",
    "\n",
    "\n",
    "ln1 = ListNode(1)\n",
    "ln2 = ListNode(0)\n",
    "ln3 = ListNode(1)\n",
    "\n",
    "ln1.next = ln2\n",
    "ln2.next = ln3\n",
    "\n",
    "\n",
    "solution = Solution()\n",
    "print(solution.mostPoints([[21,5],[92,3],[74,2],[39,4],[58,2],[5,5],[49,4],[65,3]]))"
   ]
  }
 ],
 "metadata": {
  "kernelspec": {
   "display_name": "Python 3",
   "language": "python",
   "name": "python3"
  },
  "language_info": {
   "codemirror_mode": {
    "name": "ipython",
    "version": 3
   },
   "file_extension": ".py",
   "mimetype": "text/x-python",
   "name": "python",
   "nbconvert_exporter": "python",
   "pygments_lexer": "ipython3",
   "version": "3.12.3"
  },
  "orig_nbformat": 4
 },
 "nbformat": 4,
 "nbformat_minor": 2
}
