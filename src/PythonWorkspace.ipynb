{
 "cells": [
  {
   "cell_type": "code",
   "execution_count": 2,
   "metadata": {},
   "outputs": [],
   "source": [
    "import numpy as np\n",
    "import math\n",
    "from typing import List, Optional\n",
    "import pandas as pd"
   ]
  },
  {
   "cell_type": "code",
   "execution_count": 6,
   "metadata": {},
   "outputs": [
    {
     "name": "stdout",
     "output_type": "stream",
     "text": [
      "33\n"
     ]
    }
   ],
   "source": [
    "class TreeNode:\n",
    "    def __init__(self, val=0, left=None, right=None):\n",
    "        self.val = val\n",
    "        self.left = left\n",
    "        self.right = right\n",
    "\n",
    "class ListNode:\n",
    "    def __init__(self, val=0, next=None):\n",
    "        self.val = val\n",
    "        self.next = next\n",
    "        \n",
    "\n",
    "class Solution:\n",
    "\n",
    "    def percentageLetter(self, s: str, letter: str) -> int:\n",
    "        return s.count(letter) * 100 // len(s)\n",
    "\n",
    "\n",
    "\n",
    "# test only\n",
    "node1 = TreeNode(1)\n",
    "node2 = TreeNode(2)\n",
    "node3 = TreeNode(3)\n",
    "node4=  TreeNode(5)\n",
    "\n",
    "\n",
    "node1.left = node2\n",
    "node1.right = node3\n",
    "node2.right = node4\n",
    "\n",
    "\n",
    "ln1 = ListNode(1)\n",
    "ln2 = ListNode(0)\n",
    "ln3 = ListNode(1)\n",
    "\n",
    "ln1.next = ln2\n",
    "ln2.next = ln3\n",
    "\n",
    "\n",
    "solution = Solution()\n",
    "print(solution.percentageLetter(\"foobar\", \"o\"))"
   ]
  },
  {
   "cell_type": "code",
   "execution_count": null,
   "metadata": {},
   "outputs": [],
   "source": []
  }
 ],
 "metadata": {
  "kernelspec": {
   "display_name": "Python 3",
   "language": "python",
   "name": "python3"
  },
  "language_info": {
   "codemirror_mode": {
    "name": "ipython",
    "version": 3
   },
   "file_extension": ".py",
   "mimetype": "text/x-python",
   "name": "python",
   "nbconvert_exporter": "python",
   "pygments_lexer": "ipython3",
   "version": "3.12.3"
  },
  "orig_nbformat": 4
 },
 "nbformat": 4,
 "nbformat_minor": 2
}
