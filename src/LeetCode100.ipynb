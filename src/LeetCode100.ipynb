{
 "cells": [
  {
   "cell_type": "code",
   "execution_count": 2,
   "metadata": {},
   "outputs": [],
   "source": [
    "from typing import List\n"
   ]
  },
  {
   "cell_type": "code",
   "execution_count": null,
   "metadata": {},
   "outputs": [
    {
     "name": "stdout",
     "output_type": "stream",
     "text": [
      "2\n"
     ]
    }
   ],
   "source": [
    "class Solution:\n",
    "\n",
    "    # 1\n",
    "    def twoSum(self, nums: List[int], target: int) -> List[int]:\n",
    "        numsDict = {}\n",
    "        for i, num in enumerate(nums):\n",
    "            numsDict[num] = numsDict.get(num, []) + [i]\n",
    "        for i, num in enumerate(nums):\n",
    "            remainder = target - num\n",
    "            if remainder in numsDict:\n",
    "                if remainder == num:\n",
    "                    for idx in numsDict[remainder]:\n",
    "                        if idx != i:\n",
    "                            return [i, idx]\n",
    "                else:\n",
    "                    return [i, numsDict[remainder][0]]\n",
    "        return numsDict\n",
    "    \n",
    "    # 49\n",
    "    def groupAnagrams(self, strs: List[str]) -> List[List[str]]:\n",
    "        cata = {}\n",
    "        for word in strs:\n",
    "            temp = list(word)\n",
    "            temp.sort()\n",
    "            temp = ''.join(temp)\n",
    "            cata[temp] = cata.get(temp, []) + [word]\n",
    "        return [x for x in cata.values()]\n",
    "    \n",
    "    # 128\n",
    "    def longestConsecutive(self, nums: List[int]) -> int:\n",
    "        numSet = set(nums)\n",
    "        longest = 0\n",
    "        for num in numSet:\n",
    "            if num - 1 not in numSet:\n",
    "                currentNum = num\n",
    "                currentStreak = 1\n",
    "                while currentNum + 1 in numSet:\n",
    "                    currentNum += 1\n",
    "                    currentStreak += 1\n",
    "                longest = max(longest, currentStreak)\n",
    "        return longest\n",
    "                \n",
    "    \n",
    "solution = Solution()\n",
    "print(solution.longestConsecutive([0,-1]))\n",
    "        "
   ]
  }
 ],
 "metadata": {
  "kernelspec": {
   "display_name": "Python 3",
   "language": "python",
   "name": "python3"
  },
  "language_info": {
   "codemirror_mode": {
    "name": "ipython",
    "version": 3
   },
   "file_extension": ".py",
   "mimetype": "text/x-python",
   "name": "python",
   "nbconvert_exporter": "python",
   "pygments_lexer": "ipython3",
   "version": "3.11.1"
  }
 },
 "nbformat": 4,
 "nbformat_minor": 2
}
